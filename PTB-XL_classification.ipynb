{
 "cells": [
  {
   "cell_type": "code",
   "execution_count": null,
   "metadata": {},
   "outputs": [],
   "source": [
    "import numpy as np\n",
    "import matplotlib.pyplot as plt\n",
    "import seaborn as sns\n",
    "from sklearn.metrics import confusion_matrix\n",
    "from sklearn.metrics import classification_report"
   ]
  },
  {
   "cell_type": "code",
   "execution_count": null,
   "metadata": {},
   "outputs": [],
   "source": [
    "# Transformations\n",
    "\n",
    "def fourier_transform(X, coeffs=80):\n",
    "    X_ft = np.empty_like(X)\n",
    "    for i in range(len(X)):\n",
    "        sample_fft = np.fft.rfft(X[i].T)\n",
    "        indices = np.array([[j < coeffs for j, _ in enumerate(sample_fft[k])] for k in range(len(sample_fft))])\n",
    "        X_ft[i] = np.fft.irfft(indices * sample_fft).T\n",
    "    \n",
    "    return X_ft\n",
    "\n",
    "def rolling_average(X, n=4): # n - размер окна\n",
    "    shape = list(X.shape)\n",
    "    shape[1] -= n-1 \n",
    "    X_ra = np.empty(shape)\n",
    "    for i in range(len(X)):\n",
    "        sample = X[i].T\n",
    "        X_ra[i] = np.array([np.convolve(signal, np.ones(n), 'valid') / n for signal in sample]).T\n",
    "    \n",
    "    return X_ra\n",
    "\n",
    "# Metrics and confusion matrix\n",
    "\n",
    "def draw_confusion_matrix(y, y_pred):\n",
    "    print(classification_report(y, y_pred))\n",
    "    sns.heatmap(confusion_matrix(y, y_pred), square=True, annot=True, fmt='.0f', cmap=plt.cm.Blues)\n",
    "    plt.xlabel(\"Predicted label\")\n",
    "    plt.ylabel(\"True label\")\n",
    "    pass"
   ]
  }
 ],
 "metadata": {
  "language_info": {
   "name": "python"
  },
  "orig_nbformat": 4
 },
 "nbformat": 4,
 "nbformat_minor": 2
}

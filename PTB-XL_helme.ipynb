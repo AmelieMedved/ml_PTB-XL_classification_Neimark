{
 "cells": [
  {
   "cell_type": "markdown",
   "metadata": {},
   "source": [
    "# Подключаем пакеты и определяем функции"
   ]
  },
  {
   "cell_type": "code",
   "execution_count": 2,
   "metadata": {},
   "outputs": [],
   "source": [
    "# Для работы с данными\n",
    "import pandas as pd\n",
    "import numpy as np\n",
    "import wfdb\n",
    "import ast\n",
    "from utils import utils\n",
    "from sklearn.preprocessing import StandardScaler\n",
    "import matplotlib.pyplot as plt   # plotting\n",
    "#import seaborn as sns   # plotting heatmap\n",
    "\n",
    "# Для работы с моделями\n",
    "import tensorflow as tf\n",
    "from tensorflow import keras\n",
    "from keras import layers\n",
    "\n",
    "# Для метрик\n",
    "from keras import backend as K\n",
    "from keras.metrics import AUC, Recall, Precision, Accuracy, TruePositives, TrueNegatives, FalsePositives, FalseNegatives\n",
    "from sklearn.metrics import fbeta_score, precision_score, recall_score, accuracy_score, roc_auc_score\n",
    "\n",
    "# Функции\n",
    "# Компиляция и обучение модели\n",
    "def compile_fit(model, X_train, y_train, X_val, y_val, early_stopping, model_checkpoint):\n",
    "  model.compile(loss = keras.losses.CategoricalCrossentropy(),\n",
    "                optimizer=tf.optimizers.Adam(),\n",
    "                metrics=['accuracy'])\n",
    "\n",
    "  history = model.fit(X_train, y_train, epochs = 30, validation_data = (X_val, y_val), callbacks=[model_checkpoint, early_stopping])\n",
    "  return history\n",
    "\n",
    "tf.random.set_seed(42)\n",
    "%matplotlib inline"
   ]
  },
  {
   "cell_type": "markdown",
   "metadata": {},
   "source": [
    "# Скачиваем PTB-XL с использованием кода и обработки авторов исследуемой статьи (обработанные данные, т.е. проведена нормализация и категоризация)"
   ]
  },
  {
   "cell_type": "code",
   "execution_count": 5,
   "metadata": {},
   "outputs": [
    {
     "data": {
      "text/plain": [
       "((19230, 1000, 12), (19230, 5), (2158, 1000, 12), (2158, 5))"
      ]
     },
     "execution_count": 5,
     "metadata": {},
     "output_type": "execute_result"
    }
   ],
   "source": [
    "sampling_frequency=100\n",
    "datafolder='ptbxl/'\n",
    "task='superdiagnostic'\n",
    "outputfolder='output/'\n",
    "\n",
    "# Load PTB-XL data\n",
    "data, raw_labels = utils.load_dataset(datafolder, sampling_frequency)\n",
    "# Preprocess label data\n",
    "labels = utils.compute_label_aggregations(raw_labels, datafolder, task)\n",
    "# Select relevant data and convert to one-hot\n",
    "data, labels, Y, _ = utils.select_data(data, labels, task, min_samples=0, outputfolder=outputfolder)\n",
    "\n",
    "# 1-9 for training \n",
    "X_train = data[labels.strat_fold < 10]\n",
    "y_train = Y[labels.strat_fold < 10]\n",
    "# 10 for validation\n",
    "X_val = data[labels.strat_fold == 10]\n",
    "y_val = Y[labels.strat_fold == 10]\n",
    "\n",
    "X_train.shape, y_train.shape, X_val.shape, y_val.shape"
   ]
  },
  {
   "cell_type": "code",
   "execution_count": 7,
   "metadata": {},
   "outputs": [
    {
     "data": {
      "text/plain": [
       "array([[[-1.190e-01, -5.500e-02,  6.400e-02, ..., -2.600e-02,\n",
       "         -3.900e-02, -7.900e-02],\n",
       "        [-1.160e-01, -5.100e-02,  6.500e-02, ..., -3.100e-02,\n",
       "         -3.400e-02, -7.400e-02],\n",
       "        [-1.200e-01, -4.400e-02,  7.600e-02, ..., -2.800e-02,\n",
       "         -2.900e-02, -6.900e-02],\n",
       "        ...,\n",
       "        [ 6.900e-02,  0.000e+00, -6.900e-02, ...,  2.400e-02,\n",
       "         -4.100e-02, -5.800e-02],\n",
       "        [ 8.600e-02,  4.000e-03, -8.100e-02, ...,  2.420e-01,\n",
       "         -4.600e-02, -9.800e-02],\n",
       "        [ 2.200e-02, -3.100e-02, -5.400e-02, ...,  1.430e-01,\n",
       "         -3.500e-02, -1.200e-01]],\n",
       "\n",
       "       [[ 4.000e-03,  1.380e-01,  1.340e-01, ...,  1.920e-01,\n",
       "          8.300e-02,  8.800e-02],\n",
       "        [-2.000e-02,  1.160e-01,  1.360e-01, ...,  1.560e-01,\n",
       "          5.700e-02,  6.300e-02],\n",
       "        [-5.300e-02,  9.200e-02,  1.450e-01, ...,  1.070e-01,\n",
       "          1.300e-02,  2.200e-02],\n",
       "        ...,\n",
       "        [ 1.210e-01,  3.980e-01,  2.770e-01, ..., -1.065e+00,\n",
       "         -4.920e-01, -1.560e-01],\n",
       "        [-3.260e-01,  5.700e-02,  3.830e-01, ..., -2.800e-01,\n",
       "         -1.750e-01, -7.100e-02],\n",
       "        [-3.480e-01, -5.600e-02,  2.920e-01, ..., -3.080e-01,\n",
       "         -2.310e-01, -1.450e-01]],\n",
       "\n",
       "       [[-2.900e-02, -7.900e-02, -4.900e-02, ..., -1.030e-01,\n",
       "         -7.600e-02, -6.600e-02],\n",
       "        [-3.500e-02, -7.000e-02, -3.500e-02, ..., -1.040e-01,\n",
       "         -7.900e-02, -6.800e-02],\n",
       "        [-5.400e-02, -5.700e-02, -3.000e-03, ..., -7.800e-02,\n",
       "         -6.600e-02, -5.400e-02],\n",
       "        ...,\n",
       "        [-2.900e-02, -2.260e-01, -1.980e-01, ...,  1.000e-03,\n",
       "          2.290e-01,  1.800e-02],\n",
       "        [-4.800e-02, -2.660e-01, -2.180e-01, ..., -1.000e-03,\n",
       "          2.100e-02, -8.000e-03],\n",
       "        [-4.900e-02, -2.880e-01, -2.390e-01, ...,  1.000e-03,\n",
       "         -1.800e-02,  6.000e-03]],\n",
       "\n",
       "       ...,\n",
       "\n",
       "       [[ 3.800e-02,  2.400e-02, -1.400e-02, ...,  6.000e-03,\n",
       "          1.600e-02,  2.700e-02],\n",
       "        [ 7.800e-02,  6.600e-02, -1.200e-02, ...,  1.600e-02,\n",
       "          3.100e-02,  4.500e-02],\n",
       "        [-1.400e-02, -6.000e-03,  8.000e-03, ...,  9.000e-03,\n",
       "          3.000e-02,  4.700e-02],\n",
       "        ...,\n",
       "        [-1.060e-01, -6.200e-02,  4.400e-02, ..., -2.120e-01,\n",
       "         -7.400e-02,  5.100e-02],\n",
       "        [-4.500e-02,  2.600e-02,  7.100e-02, ..., -1.510e-01,\n",
       "         -5.900e-02,  4.800e-02],\n",
       "        [ 4.630e-01,  5.300e-01,  6.700e-02, ..., -1.810e-01,\n",
       "         -1.050e-01,  3.300e-02]],\n",
       "\n",
       "       [[-5.700e-02, -5.700e-02,  0.000e+00, ..., -3.500e-02,\n",
       "         -3.900e-02, -3.500e-02],\n",
       "        [-4.100e-02, -2.900e-02,  1.200e-02, ..., -2.300e-02,\n",
       "         -2.800e-02, -2.700e-02],\n",
       "        [ 3.000e-03,  4.500e-02,  4.200e-02, ..., -9.000e-03,\n",
       "         -1.400e-02, -1.400e-02],\n",
       "        ...,\n",
       "        [ 3.300e-02,  7.000e-02,  3.700e-02, ...,  2.180e-01,\n",
       "          1.010e-01,  5.200e-02],\n",
       "        [ 2.700e-02,  8.200e-02,  5.500e-02, ...,  2.100e-01,\n",
       "          3.350e-01,  1.000e-02],\n",
       "        [-6.000e-03,  5.100e-02,  5.700e-02, ...,  2.110e-01,\n",
       "          3.740e-01, -9.000e-03]],\n",
       "\n",
       "       [[-4.900e-02, -2.500e-02,  2.400e-02, ..., -4.000e-02,\n",
       "         -2.600e-02, -3.100e-02],\n",
       "        [-4.900e-02, -2.900e-02,  2.000e-02, ..., -3.200e-02,\n",
       "         -3.300e-02, -4.300e-02],\n",
       "        [-5.900e-02, -4.200e-02,  1.700e-02, ..., -4.000e-02,\n",
       "         -4.700e-02, -5.100e-02],\n",
       "        ...,\n",
       "        [ 9.100e-02,  1.200e-02, -7.900e-02, ...,  6.300e-02,\n",
       "          1.600e-02, -1.170e-01],\n",
       "        [ 1.750e-01,  2.200e-02, -1.530e-01, ...,  8.000e-02,\n",
       "          1.800e-02, -1.080e-01],\n",
       "        [ 1.660e-01, -7.000e-03, -1.730e-01, ...,  1.060e-01,\n",
       "          4.700e-02, -1.030e-01]]])"
      ]
     },
     "execution_count": 7,
     "metadata": {},
     "output_type": "execute_result"
    }
   ],
   "source": [
    "X_train"
   ]
  },
  {
   "cell_type": "code",
   "execution_count": 6,
   "metadata": {},
   "outputs": [
    {
     "data": {
      "text/plain": [
       "array([[0, 0, 0, 1, 0],\n",
       "       [0, 0, 0, 1, 0],\n",
       "       [0, 0, 0, 1, 0],\n",
       "       ...,\n",
       "       [0, 0, 0, 0, 1],\n",
       "       [0, 0, 0, 1, 0],\n",
       "       [0, 0, 0, 1, 0]])"
      ]
     },
     "execution_count": 6,
     "metadata": {},
     "output_type": "execute_result"
    }
   ],
   "source": [
    "y_train"
   ]
  },
  {
   "cell_type": "code",
   "execution_count": 3,
   "metadata": {},
   "outputs": [],
   "source": [
    "# Сохранение наборов данных в файлы .npy для дальнейшего использования в Google Colab\n",
    "np.save('ptbxl_helme/X_train_ptbxl_superdiag.npy', X_train)\n",
    "np.save('ptbxl_helme/X_val_ptbxl_superdiag.npy', X_val)\n",
    "np.save('ptbxl_helme/y_train_ptbxl_superdiag.npy', y_train)\n",
    "np.save('ptbxl_helme/y_val_ptbxl_superdiag.npy', y_val)"
   ]
  }
 ],
 "metadata": {
  "kernelspec": {
   "display_name": "Python 3 (ipykernel)",
   "language": "python",
   "name": "python3"
  },
  "language_info": {
   "codemirror_mode": {
    "name": "ipython",
    "version": 3
   },
   "file_extension": ".py",
   "mimetype": "text/x-python",
   "name": "python",
   "nbconvert_exporter": "python",
   "pygments_lexer": "ipython3",
   "version": "3.9.10"
  },
  "vscode": {
   "interpreter": {
    "hash": "7def36fe8bd5fec4bb5af778b23511c8ac7b24717e5ef7201919a5b3f553865a"
   }
  }
 },
 "nbformat": 4,
 "nbformat_minor": 2
}
